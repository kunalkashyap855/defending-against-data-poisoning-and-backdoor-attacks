{
  "nbformat": 4,
  "nbformat_minor": 0,
  "metadata": {
    "colab": {
      "provenance": []
    },
    "kernelspec": {
      "name": "python3",
      "display_name": "Python 3"
    },
    "language_info": {
      "name": "python"
    },
    "accelerator": "GPU",
    "gpuClass": "standard"
  },
  "cells": [
    {
      "cell_type": "markdown",
      "source": [
        "# ML Security Final Project\n",
        "### Kunal Kashyap, Mukta Maheshwari, Neelanchal Gahalot"
      ],
      "metadata": {
        "id": "XZhlB1jbu2yf"
      }
    },
    {
      "cell_type": "markdown",
      "source": [
        "### Setup"
      ],
      "metadata": {
        "id": "f3K5hczwQtMB"
      }
    },
    {
      "cell_type": "code",
      "source": [
        "import datetime\n",
        "import sys\n",
        "import math\n",
        "import tensorflow as tf\n",
        "import keras\n",
        "import keras.backend as K\n",
        "from keras import initializers\n",
        "from keras.models import load_model\n",
        "from keras.utils import plot_model\n",
        "from keras import models\n",
        "import h5py\n",
        "import numpy as np\n",
        "import matplotlib.pyplot as plt\n",
        "from random import seed\n",
        "from random import choice\n",
        "import cv2\n",
        "from shutil import copyfile, move\n",
        "from scipy.stats import rankdata"
      ],
      "metadata": {
        "id": "gadQ_qzJsNGZ"
      },
      "execution_count": 1,
      "outputs": []
    },
    {
      "cell_type": "code",
      "source": [
        "# Function takes in data and formats it properly for evaluation, outputting the data and output. Taken from eval.py\n",
        "def data_loader(filepath):\n",
        "    data = h5py.File(filepath, 'r')\n",
        "    x = np.array(data['data'])\n",
        "    y = np.array(data['label'])\n",
        "    x = x.transpose((0,2,3,1))\n",
        "    return x, y"
      ],
      "metadata": {
        "id": "ulYIdKIMsTwV"
      },
      "execution_count": 2,
      "outputs": []
    },
    {
      "cell_type": "code",
      "source": [
        "# normalizes data. Taken from eval.py\n",
        "def normalize(x):\n",
        "    return x/255"
      ],
      "metadata": {
        "id": "I-uryCxFsVv7"
      },
      "execution_count": 3,
      "outputs": []
    },
    {
      "cell_type": "code",
      "source": [
        "# allows evaluation of custom model. Modified from eval.py\n",
        "def evalcustommodel(clean_data_filename, bd_model):\n",
        "    clean_data_filename = str(clean_data_filename)\n",
        "    x_test, y_test = data_loader(clean_data_filename)\n",
        "    x_test = normalize(x_test)\n",
        "    clean_label_p = np.argmax(bd_model.predict(x_test), axis=1)\n",
        "    class_accu = np.mean(np.equal(clean_label_p, y_test))*100\n",
        "    return class_accu"
      ],
      "metadata": {
        "id": "7vfEDievsX4N"
      },
      "execution_count": 4,
      "outputs": []
    },
    {
      "cell_type": "code",
      "source": [
        "# Calculations for bottom X percent of weights\n",
        "def calc_bottom_X_percent_weight(weights, fraction):\n",
        "  max = weights[0][0][0][0]\n",
        "  min = weights[0][0][0][0]\n",
        "  for i in range(len(weights)):\n",
        "    for j in range(len(weights[i])):\n",
        "      for k in range(len(weights[i][j])):\n",
        "        for m in range(len(weights[i][j][k])):\n",
        "          if weights[i][j][k][m] < min:\n",
        "            min = weights[i][j][k][m]\n",
        "          if weights[i][j][k][m] > max:\n",
        "            max = weights[i][j][k][m]\n",
        "  truemin = min+(fraction*(max-min))\n",
        "  return truemin"
      ],
      "metadata": {
        "id": "htT_Aml_saAG"
      },
      "execution_count": 5,
      "outputs": []
    },
    {
      "cell_type": "code",
      "source": [
        "def clear_min_weights(weights, thresh):\n",
        "  for i in range(len(weights)):\n",
        "    for j in range(len(weights[i])):\n",
        "      for k in range(len(weights[i][j])):\n",
        "        for m in range(len(weights[i][j][k])):\n",
        "          if weights[i][j][k][m] < thresh:\n",
        "            weights[i][j][k][m] = 0\n",
        "  return weights"
      ],
      "metadata": {
        "id": "GlotfPw4scUj"
      },
      "execution_count": 6,
      "outputs": []
    },
    {
      "cell_type": "code",
      "source": [
        "def get_conv_index(model):\n",
        "  # getting all indices where layer is convolutional layer\n",
        "  convindex = []\n",
        "  for i in range(len(model.layers)):\n",
        "    layername = str(type(model.get_layer(index=i)))\n",
        "    if \"convolutional\" in layername:\n",
        "      convindex.append(i)\n",
        "  return convindex"
      ],
      "metadata": {
        "id": "Ewmo-kGyseXP"
      },
      "execution_count": 7,
      "outputs": []
    },
    {
      "cell_type": "code",
      "source": [
        "! git clone https://github.com/csaw-hackml/CSAW-HackML-2020"
      ],
      "metadata": {
        "id": "15BfmYs6soFI",
        "colab": {
          "base_uri": "https://localhost:8080/"
        },
        "outputId": "27c8537c-547b-4ce1-eaac-d55ea8c6f618"
      },
      "execution_count": 8,
      "outputs": [
        {
          "output_type": "stream",
          "name": "stdout",
          "text": [
            "Cloning into 'CSAW-HackML-2020'...\n",
            "remote: Enumerating objects: 220, done.\u001b[K\n",
            "remote: Counting objects: 100% (42/42), done.\u001b[K\n",
            "remote: Compressing objects: 100% (25/25), done.\u001b[K\n",
            "remote: Total 220 (delta 37), reused 17 (delta 17), pack-reused 178\u001b[K\n",
            "Receiving objects: 100% (220/220), 83.78 MiB | 28.31 MiB/s, done.\n",
            "Resolving deltas: 100% (83/83), done.\n"
          ]
        }
      ]
    },
    {
      "cell_type": "code",
      "source": [
        "# https://drive.google.com/drive/folders/12En9iyHQmJ1dDjpMvNDUCDbyrZ6CiW0C?usp=share_link\n",
        "\n",
        "from google.colab import drive\n",
        "drive.mount('/content/drive')"
      ],
      "metadata": {
        "id": "_zuOAGZPso2s",
        "colab": {
          "base_uri": "https://localhost:8080/"
        },
        "outputId": "afd52442-eae4-4fcd-cabd-b5f75bdd46fa"
      },
      "execution_count": 9,
      "outputs": [
        {
          "output_type": "stream",
          "name": "stdout",
          "text": [
            "Mounted at /content/drive\n"
          ]
        }
      ]
    },
    {
      "cell_type": "code",
      "source": [
        "#file transfer from dataset library to our project\n",
        "\n",
        "print(\"Initiating Standard Data File Transfer\")\n",
        "%cp /content/drive/MyDrive/PoisonData/clean_test_data.h5 /content/CSAW-HackML-2020/data\n",
        "%cp /content/drive/MyDrive/PoisonData/clean_validation_data.h5 /content/CSAW-HackML-2020/data\n",
        "%cp /content/drive/MyDrive/PoisonData/sunglasses_poisoned_data.h5 /content/CSAW-HackML-2020/data\n",
        "%cp /content/drive/MyDrive/PoisonData/anonymous_1_poisoned_data.h5 /content/CSAW-HackML-2020/data\n",
        "print(\"Complete!\")\n",
        "print(\"\")\n",
        "\n",
        "print(\"Initiating MTMT Data File Transfer\")\n",
        "%mkdir /content/CSAW-HackML-2020/data/MTMT\n",
        "%cp /content/drive/MyDrive/PoisonData/Multi-trigger\\ Multi-target/eyebrows_poisoned_data.h5 /content/CSAW-HackML-2020/data/MTMT\n",
        "%cp /content/drive/MyDrive/PoisonData/Multi-trigger\\ Multi-target/lipstick_poisoned_data.h5 /content/CSAW-HackML-2020/data/MTMT\n",
        "%cp /content/drive/MyDrive/PoisonData/Multi-trigger\\ Multi-target/sunglasses_poisoned_data.h5 /content/CSAW-HackML-2020/data/MTMT\n",
        "print(\"Complete!\")\n",
        "print(\"\")\n",
        "\n",
        "%cd /content/CSAW-HackML-2020/data/\n",
        "! ls"
      ],
      "metadata": {
        "id": "U8alPvGasrAq",
        "colab": {
          "base_uri": "https://localhost:8080/"
        },
        "outputId": "11b51865-9862-4bec-cb66-b8b753e2b66d"
      },
      "execution_count": 10,
      "outputs": [
        {
          "output_type": "stream",
          "name": "stdout",
          "text": [
            "Initiating Standard Data File Transfer\n",
            "Complete!\n",
            "\n",
            "Initiating MTMT Data File Transfer\n",
            "Complete!\n",
            "\n",
            "/content/CSAW-HackML-2020/data\n",
            "anonymous_1_poisoned_data.h5  data.txt\n",
            "clean_test_data.h5\t      MTMT\n",
            "clean_validation_data.h5      sunglasses_poisoned_data.h5\n"
          ]
        }
      ]
    },
    {
      "cell_type": "markdown",
      "source": [
        "### Testing the Models"
      ],
      "metadata": {
        "id": "V2D9VZrsP5wK"
      }
    },
    {
      "cell_type": "code",
      "source": [
        "# using eval.py to see accuracies\n",
        "\n",
        "%cd /content/CSAW-HackML-2020\n",
        "! ls\n",
        "print(\"\")\n",
        "! python eval.py data/clean_validation_data.h5 models/sunglasses_bd_net.h5\n",
        "print(\"\")\n",
        "! python eval.py data/clean_test_data.h5 models/sunglasses_bd_net.h5\n",
        "print(\"\")\n",
        "! python eval.py data/sunglasses_poisoned_data.h5 models/sunglasses_bd_net.h5"
      ],
      "metadata": {
        "id": "SErAN5VMsvcg",
        "colab": {
          "base_uri": "https://localhost:8080/"
        },
        "outputId": "86e55a5f-0f4f-4dfe-bd08-3a1e8cead357"
      },
      "execution_count": 11,
      "outputs": [
        {
          "output_type": "stream",
          "name": "stdout",
          "text": [
            "/content/CSAW-HackML-2020\n",
            "architecture.py  data  eval.py\tlab3  models  README.md\n",
            "\n",
            "2022-12-02 19:15:11.748404: W tensorflow/core/common_runtime/gpu/gpu_bfc_allocator.cc:42] Overriding orig_value setting because the TF_FORCE_GPU_ALLOW_GROWTH environment variable is set. Original config value was 0.\n",
            "2022-12-02 19:15:12.723642: W tensorflow/core/framework/cpu_allocator_impl.cc:82] Allocation of 358187940 exceeds 10% of free system memory.\n",
            "361/361 [==============================] - 8s 3ms/step\n",
            "2022-12-02 19:15:20.768713: W tensorflow/core/framework/cpu_allocator_impl.cc:82] Allocation of 59259204 exceeds 10% of free system memory.\n",
            "Classification accuracy: 97.88689702953148\n",
            "\n",
            "2022-12-02 19:15:27.853512: W tensorflow/core/common_runtime/gpu/gpu_bfc_allocator.cc:42] Overriding orig_value setting because the TF_FORCE_GPU_ALLOW_GROWTH environment variable is set. Original config value was 0.\n",
            "2022-12-02 19:15:28.621035: W tensorflow/core/framework/cpu_allocator_impl.cc:82] Allocation of 397986600 exceeds 10% of free system memory.\n",
            "401/401 [==============================] - 3s 3ms/step\n",
            "Classification accuracy: 97.77864380358535\n",
            "\n",
            "2022-12-02 19:15:40.230908: W tensorflow/core/common_runtime/gpu/gpu_bfc_allocator.cc:42] Overriding orig_value setting because the TF_FORCE_GPU_ALLOW_GROWTH environment variable is set. Original config value was 0.\n",
            "2022-12-02 19:15:40.797261: W tensorflow/core/framework/cpu_allocator_impl.cc:82] Allocation of 397986600 exceeds 10% of free system memory.\n",
            "401/401 [==============================] - 3s 3ms/step\n",
            "Classification accuracy: 99.99220576773187\n"
          ]
        }
      ]
    },
    {
      "cell_type": "markdown",
      "source": [
        "### Initializing Datasets into our project"
      ],
      "metadata": {
        "id": "Dm9DlvBYQAOk"
      }
    },
    {
      "cell_type": "code",
      "source": [
        "%cd /content/CSAW-HackML-2020\n",
        "! ls"
      ],
      "metadata": {
        "id": "edvCv59kszKx",
        "colab": {
          "base_uri": "https://localhost:8080/"
        },
        "outputId": "af1c1f35-114c-445e-f73a-072caa6689ae"
      },
      "execution_count": 12,
      "outputs": [
        {
          "output_type": "stream",
          "name": "stdout",
          "text": [
            "/content/CSAW-HackML-2020\n",
            "architecture.py  data  eval.py\tlab3  models  README.md\n"
          ]
        }
      ]
    },
    {
      "cell_type": "code",
      "source": [
        "# validation data (all good)\n",
        "valid_x, valid_y = data_loader('data/clean_validation_data.h5')\n",
        "print(valid_x.shape, valid_y.shape)"
      ],
      "metadata": {
        "id": "i4nlkMwDs1th",
        "colab": {
          "base_uri": "https://localhost:8080/"
        },
        "outputId": "20c88acd-2678-4e27-a83b-e7aa1593f28b"
      },
      "execution_count": 13,
      "outputs": [
        {
          "output_type": "stream",
          "name": "stdout",
          "text": [
            "(11547, 55, 47, 3) (11547,)\n"
          ]
        }
      ]
    },
    {
      "cell_type": "code",
      "source": [
        "# test data (all good)\n",
        "test_x, test_y = data_loader('data/clean_test_data.h5')\n",
        "print(test_x.shape, test_y.shape)"
      ],
      "metadata": {
        "id": "94eHeG9Is4Dz",
        "colab": {
          "base_uri": "https://localhost:8080/"
        },
        "outputId": "f5ab7cbd-eac6-4542-bb0e-dd8bd0281f57"
      },
      "execution_count": 14,
      "outputs": [
        {
          "output_type": "stream",
          "name": "stdout",
          "text": [
            "(12830, 55, 47, 3) (12830,)\n"
          ]
        }
      ]
    },
    {
      "cell_type": "code",
      "source": [
        "# poisoned data (all bad)\n",
        "poison_x, poison_y = data_loader('data/sunglasses_poisoned_data.h5')\n",
        "print(poison_x.shape, poison_y.shape)"
      ],
      "metadata": {
        "id": "-d1C7jRts6DH",
        "colab": {
          "base_uri": "https://localhost:8080/"
        },
        "outputId": "d5904863-a2c9-41b1-a2da-d7cce9b85998"
      },
      "execution_count": 15,
      "outputs": [
        {
          "output_type": "stream",
          "name": "stdout",
          "text": [
            "(12830, 55, 47, 3) (12830,)\n"
          ]
        }
      ]
    },
    {
      "cell_type": "code",
      "source": [
        "# anonymous 1 poisoned data (all bad)\n",
        "anon1_x, anon1_y = data_loader('data/anonymous_1_poisoned_data.h5')\n",
        "print(anon1_x.shape, anon1_y.shape)"
      ],
      "metadata": {
        "id": "SdUKjePqs8Qh",
        "colab": {
          "base_uri": "https://localhost:8080/"
        },
        "outputId": "b4ace3f3-3108-4677-874a-d19892c2cf9c"
      },
      "execution_count": 16,
      "outputs": [
        {
          "output_type": "stream",
          "name": "stdout",
          "text": [
            "(10264, 55, 47, 3) (10264,)\n"
          ]
        }
      ]
    },
    {
      "cell_type": "code",
      "source": [
        "# Eyebrows poisoned data (all bad)\n",
        "eye_x, eye_y = data_loader('data//MTMT/eyebrows_poisoned_data.h5')\n",
        "print(eye_x.shape, eye_y.shape)"
      ],
      "metadata": {
        "id": "f87tl0Ius-8o",
        "colab": {
          "base_uri": "https://localhost:8080/"
        },
        "outputId": "ebcc9c80-8995-40da-a32c-3bb89a2ee232"
      },
      "execution_count": 17,
      "outputs": [
        {
          "output_type": "stream",
          "name": "stdout",
          "text": [
            "(10264, 55, 47, 3) (10264,)\n"
          ]
        }
      ]
    },
    {
      "cell_type": "code",
      "source": [
        "# Lipstick poisoned data (all bad)\n",
        "lip_x, lip_y = data_loader('data//MTMT/lipstick_poisoned_data.h5')\n",
        "print(lip_x.shape, lip_y.shape)"
      ],
      "metadata": {
        "id": "_uSvVQE8tBjV",
        "colab": {
          "base_uri": "https://localhost:8080/"
        },
        "outputId": "1335f5ae-5c96-4445-ee63-64af06291784"
      },
      "execution_count": 18,
      "outputs": [
        {
          "output_type": "stream",
          "name": "stdout",
          "text": [
            "(10264, 55, 47, 3) (10264,)\n"
          ]
        }
      ]
    },
    {
      "cell_type": "code",
      "source": [
        "# Sunglasses poisoned data (all bad)\n",
        "sun_x, sun_y = data_loader('data//MTMT/sunglasses_poisoned_data.h5')\n",
        "print(sun_x.shape, sun_y.shape)"
      ],
      "metadata": {
        "id": "nriZ-PCWtDf1",
        "colab": {
          "base_uri": "https://localhost:8080/"
        },
        "outputId": "82608caf-bcc0-4123-f6b0-6ce68c9dbeda"
      },
      "execution_count": 19,
      "outputs": [
        {
          "output_type": "stream",
          "name": "stdout",
          "text": [
            "(10264, 55, 47, 3) (10264,)\n"
          ]
        }
      ]
    },
    {
      "cell_type": "markdown",
      "source": [
        "## Fine-Pruning"
      ],
      "metadata": {
        "id": "ISNWPo67tFQT"
      }
    },
    {
      "cell_type": "code",
      "source": [
        "def tune(model):\n",
        "  model.compile(loss='sparse_categorical_crossentropy', optimizer='adam', metrics = ['accuracy'])\n",
        "  valid_x_preprocessed = normalize(valid_x)\n",
        "  history = model.fit(valid_x_preprocessed, valid_y, epochs=1)\n",
        "  return history"
      ],
      "metadata": {
        "id": "0AcuSiYlsgef"
      },
      "execution_count": 20,
      "outputs": []
    },
    {
      "cell_type": "code",
      "source": [
        "def fineprune(model, x):\n",
        "  layer_weights = []\n",
        "  convindex = get_conv_index(model)\n",
        "  for i in convindex:\n",
        "    layer_weights.append(model.layers[i].get_weights()[0])\n",
        "  min_weights_thr = []\n",
        "  for i in range(len(convindex)):\n",
        "    min_weights_thr.append(calc_bottom_X_percent_weight(layer_weights[i], x))\n",
        "  new_weights = []\n",
        "  for i in range(len(convindex)):\n",
        "    new_weights.append(clear_min_weights(layer_weights[i], min_weights_thr[i]))\n",
        "  map_indices = {}\n",
        "  for i in range(len(convindex)):\n",
        "    map_indices[i] = convindex[i]\n",
        "  weights_biases = [0 for x in range(2)]\n",
        "  for key in map_indices:\n",
        "    bias_weights = model.layers[map_indices[key]].get_weights()[1]\n",
        "    weights_biases[0] = new_weights[key]\n",
        "    weights_biases[1] = bias_weights\n",
        "    model.layers[map_indices[key]].set_weights(weights_biases)\n",
        "  tune(model)\n",
        "  return model"
      ],
      "metadata": {
        "id": "D-AcwK6islAg"
      },
      "execution_count": 21,
      "outputs": []
    },
    {
      "cell_type": "code",
      "source": [
        "# loading new instance of model that can be modified\n",
        "model_BadNetFP = load_model('models/sunglasses_bd_net.h5')\n",
        "model_BadNetFP.summary()\n",
        "\n",
        "# Loading the new weights in a temp model\n",
        "copyfile('models/sunglasses_bd_net.h5', 'models/temp_bd_net.h5')\n",
        "model_BadNet_new = load_model('models/temp_bd_net.h5')"
      ],
      "metadata": {
        "id": "mW3OlJfYtIKR",
        "colab": {
          "base_uri": "https://localhost:8080/"
        },
        "outputId": "67c68c8e-7328-4f75-cf8f-be825d0ece5f"
      },
      "execution_count": 22,
      "outputs": [
        {
          "output_type": "stream",
          "name": "stdout",
          "text": [
            "Model: \"model_1\"\n",
            "__________________________________________________________________________________________________\n",
            " Layer (type)                   Output Shape         Param #     Connected to                     \n",
            "==================================================================================================\n",
            " input (InputLayer)             [(None, 55, 47, 3)]  0           []                               \n",
            "                                                                                                  \n",
            " conv_1 (Conv2D)                (None, 52, 44, 20)   980         ['input[0][0]']                  \n",
            "                                                                                                  \n",
            " pool_1 (MaxPooling2D)          (None, 26, 22, 20)   0           ['conv_1[0][0]']                 \n",
            "                                                                                                  \n",
            " conv_2 (Conv2D)                (None, 24, 20, 40)   7240        ['pool_1[0][0]']                 \n",
            "                                                                                                  \n",
            " pool_2 (MaxPooling2D)          (None, 12, 10, 40)   0           ['conv_2[0][0]']                 \n",
            "                                                                                                  \n",
            " conv_3 (Conv2D)                (None, 10, 8, 60)    21660       ['pool_2[0][0]']                 \n",
            "                                                                                                  \n",
            " pool_3 (MaxPooling2D)          (None, 5, 4, 60)     0           ['conv_3[0][0]']                 \n",
            "                                                                                                  \n",
            " conv_4 (Conv2D)                (None, 4, 3, 80)     19280       ['pool_3[0][0]']                 \n",
            "                                                                                                  \n",
            " flatten_1 (Flatten)            (None, 1200)         0           ['pool_3[0][0]']                 \n",
            "                                                                                                  \n",
            " flatten_2 (Flatten)            (None, 960)          0           ['conv_4[0][0]']                 \n",
            "                                                                                                  \n",
            " fc_1 (Dense)                   (None, 160)          192160      ['flatten_1[0][0]']              \n",
            "                                                                                                  \n",
            " fc_2 (Dense)                   (None, 160)          153760      ['flatten_2[0][0]']              \n",
            "                                                                                                  \n",
            " add_1 (Add)                    (None, 160)          0           ['fc_1[0][0]',                   \n",
            "                                                                  'fc_2[0][0]']                   \n",
            "                                                                                                  \n",
            " activation_1 (Activation)      (None, 160)          0           ['add_1[0][0]']                  \n",
            "                                                                                                  \n",
            " output (Dense)                 (None, 1283)         206563      ['activation_1[0][0]']           \n",
            "                                                                                                  \n",
            "==================================================================================================\n",
            "Total params: 601,643\n",
            "Trainable params: 601,643\n",
            "Non-trainable params: 0\n",
            "__________________________________________________________________________________________________\n"
          ]
        }
      ]
    },
    {
      "cell_type": "markdown",
      "source": [
        "### Prune-n-Tune"
      ],
      "metadata": {
        "id": "FkgbTe4VuluA"
      }
    },
    {
      "cell_type": "code",
      "source": [
        "deviation = 90\n",
        "pruning_percent = 0.05\n",
        "poison_target = 1\n",
        "acc_test_BadNetFP = evalcustommodel(\"data/clean_test_data.h5\", model_BadNetFP)\n",
        "acc_poison_BadNetFP = evalcustommodel(\"data/sunglasses_poisoned_data.h5\", model_BadNetFP)\n",
        "acc_cutoff = acc_test_BadNetFP - deviation\n",
        "step_accuracy = acc_cutoff\n",
        "print('Accuracy cutoff', acc_cutoff)\n",
        "print(\"\")\n",
        "while (step_accuracy >= acc_cutoff) and (acc_poison_BadNetFP >= poison_target):\n",
        "  model_BadNet_new = fineprune(model_BadNet_new, pruning_percent)\n",
        "  step_accuracy = evalcustommodel(\"data/clean_test_data.h5\", model_BadNet_new)\n",
        "  acc_poison_BadNetFP = evalcustommodel(\"data/sunglasses_poisoned_data.h5\", model_BadNet_new)\n",
        "  print('Clean accuracy:', step_accuracy)\n",
        "  print(\"Poison accuracy:\" + str(acc_poison_BadNetFP))\n",
        "  print(\"\")"
      ],
      "metadata": {
        "id": "i4rC2i_otM_W",
        "colab": {
          "base_uri": "https://localhost:8080/"
        },
        "outputId": "d83f6edd-01af-4f00-b0b9-069fcde7907d"
      },
      "execution_count": 23,
      "outputs": [
        {
          "output_type": "stream",
          "name": "stdout",
          "text": [
            "401/401 [==============================] - 4s 3ms/step\n",
            "401/401 [==============================] - 1s 3ms/step\n",
            "Accuracy cutoff 7.778643803585354\n",
            "\n",
            "361/361 [==============================] - 4s 6ms/step - loss: 1.0830 - accuracy: 0.7972\n",
            "401/401 [==============================] - 1s 3ms/step\n",
            "401/401 [==============================] - 1s 3ms/step\n",
            "Clean accuracy: 87.82540919719408\n",
            "Poison accuracy:33.90491036632891\n",
            "\n",
            "361/361 [==============================] - 3s 6ms/step - loss: 0.5557 - accuracy: 0.8696\n",
            "401/401 [==============================] - 1s 3ms/step\n",
            "401/401 [==============================] - 1s 3ms/step\n",
            "Clean accuracy: 86.03273577552612\n",
            "Poison accuracy:8.815276695245517\n",
            "\n",
            "361/361 [==============================] - 3s 6ms/step - loss: 0.3348 - accuracy: 0.9145\n",
            "401/401 [==============================] - 1s 3ms/step\n",
            "401/401 [==============================] - 1s 3ms/step\n",
            "Clean accuracy: 86.09508963367108\n",
            "Poison accuracy:0.4442712392829306\n",
            "\n"
          ]
        }
      ]
    }
  ]
}